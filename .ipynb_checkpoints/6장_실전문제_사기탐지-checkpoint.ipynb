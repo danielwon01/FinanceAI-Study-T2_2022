{
 "cells": [
  {
   "cell_type": "markdown",
   "id": "f6182ded",
   "metadata": {},
   "source": [
    "## 사기탐지 \n",
    "\n",
    "\n",
    "#### 주요 목표\n",
    "* 데이터를 다운/업 샘플링해 불균형 데이터를 처리한다.\n",
    "* 거짓부정(사기 거래가 발견되지 않은 경우)를 줄이는 것이므로 올바른 평가 메트릭을 선택"
   ]
  },
  {
   "cell_type": "markdown",
   "id": "b9df1a79",
   "metadata": {},
   "source": [
    "### 패키지 불러오기 "
   ]
  },
  {
   "cell_type": "code",
   "execution_count": 1,
   "id": "b8d7305d",
   "metadata": {},
   "outputs": [],
   "source": [
    "import pandas as pd\n",
    "import numpy as np\n",
    "import matplotlib.pyplot as plt\n",
    "import seaborn as sns\n",
    "%matplotlib inline\n",
    "import warnings\n",
    "warnings.filterwarnings(action='ignore')\n",
    "\n",
    "from pandas.plotting import scatter_matrix\n",
    "from sklearn.preprocessing import StandardScaler"
   ]
  },
  {
   "cell_type": "code",
   "execution_count": 2,
   "id": "b9c97a9a",
   "metadata": {},
   "outputs": [],
   "source": [
    "# 모델 평가 분류 모델을 패키지 \n",
    "\n",
    "from sklearn.model_selection import train_test_split, KFold, cross_val_score, GridSearchCV\n",
    "from sklearn.linear_model import LogisticRegression\n",
    "from sklearn.tree import DecisionTreeClassifier\n",
    "from sklearn.neighbors import KNeighborsClassifier\n",
    "\n",
    "# Linear Discriminant Analysis,선형판별분석 , 축소 방법중의 하나 \n",
    "# 데이터의 Target값 클래스끼리 최대한 분리할 수 있는 축을 찾는다. \n",
    "# 투영 후 두 클래스 간 분산은 최대한 크게 가져가고, 클래스 내부의 분산은 최대한 작게 가져가는 방식\n",
    "# 클래스 간 분산이 최대가 된다는 것은 각 클래스의 중심(평균)이 서로 멀어지도록 분류한다는 것\n",
    "from sklearn.discriminant_analysis import LinearDiscriminantAnalysis\n",
    "from sklearn.naive_bayes import GaussianNB\n",
    "from sklearn.svm import SVC\n",
    "from sklearn.neural_network import MLPClassifier\n",
    "from sklearn.pipeline import Pipeline\n",
    "\n",
    "# 엑스트라 트리는 포레스트 트리의 각 후보 특성을 무작위로 분할하는 식으로 무작위성을 증가시킨것\n",
    "from sklearn.ensemble import AdaBoostClassifier, GradientBoostingClassifier, RandomForestClassifier, ExtraTreesClassifier\n",
    "from sklearn.metrics import classification_report, confusion_matrix, accuracy_score"
   ]
  },
  {
   "cell_type": "code",
   "execution_count": 3,
   "id": "1b6c58d0",
   "metadata": {},
   "outputs": [],
   "source": [
    "# 딥러닝 모델 패키지 \n",
    "\n",
    "from tensorflow.keras.models import Sequential \n",
    "from tensorflow.keras.layers import Dense\n",
    "from tensorflow.keras.wrappers.scikit_learn import KerasClassifier \n",
    "\n",
    "# Loss Function을 계산할 때, 전체 데이터(Batch) 대신 일부 데이터의 모음(Mini-Batch)를 사용하여 Loss Function을 계산\n",
    "from tensorflow.keras.optimizers import SGD # Stochastic Gradient Desenct"
   ]
  },
  {
   "cell_type": "markdown",
   "id": "06e9c925",
   "metadata": {},
   "source": [
    "### 데이터 불러오기 "
   ]
  },
  {
   "cell_type": "code",
   "execution_count": 4,
   "id": "3496ee63",
   "metadata": {},
   "outputs": [
    {
     "data": {
      "text/html": [
       "<div>\n",
       "<style scoped>\n",
       "    .dataframe tbody tr th:only-of-type {\n",
       "        vertical-align: middle;\n",
       "    }\n",
       "\n",
       "    .dataframe tbody tr th {\n",
       "        vertical-align: top;\n",
       "    }\n",
       "\n",
       "    .dataframe thead th {\n",
       "        text-align: right;\n",
       "    }\n",
       "</style>\n",
       "<table border=\"1\" class=\"dataframe\">\n",
       "  <thead>\n",
       "    <tr style=\"text-align: right;\">\n",
       "      <th></th>\n",
       "      <th>Time</th>\n",
       "      <th>V1</th>\n",
       "      <th>V2</th>\n",
       "      <th>V3</th>\n",
       "      <th>V4</th>\n",
       "      <th>V5</th>\n",
       "      <th>V6</th>\n",
       "      <th>V7</th>\n",
       "      <th>V8</th>\n",
       "      <th>V9</th>\n",
       "      <th>...</th>\n",
       "      <th>V21</th>\n",
       "      <th>V22</th>\n",
       "      <th>V23</th>\n",
       "      <th>V24</th>\n",
       "      <th>V25</th>\n",
       "      <th>V26</th>\n",
       "      <th>V27</th>\n",
       "      <th>V28</th>\n",
       "      <th>Amount</th>\n",
       "      <th>Class</th>\n",
       "    </tr>\n",
       "  </thead>\n",
       "  <tbody>\n",
       "    <tr>\n",
       "      <th>0</th>\n",
       "      <td>0</td>\n",
       "      <td>-1.359807</td>\n",
       "      <td>-0.072781</td>\n",
       "      <td>2.536347</td>\n",
       "      <td>1.378155</td>\n",
       "      <td>-0.338321</td>\n",
       "      <td>0.462388</td>\n",
       "      <td>0.239599</td>\n",
       "      <td>0.098698</td>\n",
       "      <td>0.363787</td>\n",
       "      <td>...</td>\n",
       "      <td>-0.018307</td>\n",
       "      <td>0.277838</td>\n",
       "      <td>-0.110474</td>\n",
       "      <td>0.066928</td>\n",
       "      <td>0.128539</td>\n",
       "      <td>-0.189115</td>\n",
       "      <td>0.133558</td>\n",
       "      <td>-0.021053</td>\n",
       "      <td>149.62</td>\n",
       "      <td>0</td>\n",
       "    </tr>\n",
       "    <tr>\n",
       "      <th>1</th>\n",
       "      <td>0</td>\n",
       "      <td>1.191857</td>\n",
       "      <td>0.266151</td>\n",
       "      <td>0.166480</td>\n",
       "      <td>0.448154</td>\n",
       "      <td>0.060018</td>\n",
       "      <td>-0.082361</td>\n",
       "      <td>-0.078803</td>\n",
       "      <td>0.085102</td>\n",
       "      <td>-0.255425</td>\n",
       "      <td>...</td>\n",
       "      <td>-0.225775</td>\n",
       "      <td>-0.638672</td>\n",
       "      <td>0.101288</td>\n",
       "      <td>-0.339846</td>\n",
       "      <td>0.167170</td>\n",
       "      <td>0.125895</td>\n",
       "      <td>-0.008983</td>\n",
       "      <td>0.014724</td>\n",
       "      <td>2.69</td>\n",
       "      <td>0</td>\n",
       "    </tr>\n",
       "    <tr>\n",
       "      <th>2</th>\n",
       "      <td>1</td>\n",
       "      <td>-1.358354</td>\n",
       "      <td>-1.340163</td>\n",
       "      <td>1.773209</td>\n",
       "      <td>0.379780</td>\n",
       "      <td>-0.503198</td>\n",
       "      <td>1.800499</td>\n",
       "      <td>0.791461</td>\n",
       "      <td>0.247676</td>\n",
       "      <td>-1.514654</td>\n",
       "      <td>...</td>\n",
       "      <td>0.247998</td>\n",
       "      <td>0.771679</td>\n",
       "      <td>0.909412</td>\n",
       "      <td>-0.689281</td>\n",
       "      <td>-0.327642</td>\n",
       "      <td>-0.139097</td>\n",
       "      <td>-0.055353</td>\n",
       "      <td>-0.059752</td>\n",
       "      <td>378.66</td>\n",
       "      <td>0</td>\n",
       "    </tr>\n",
       "    <tr>\n",
       "      <th>3</th>\n",
       "      <td>1</td>\n",
       "      <td>-0.966272</td>\n",
       "      <td>-0.185226</td>\n",
       "      <td>1.792993</td>\n",
       "      <td>-0.863291</td>\n",
       "      <td>-0.010309</td>\n",
       "      <td>1.247203</td>\n",
       "      <td>0.237609</td>\n",
       "      <td>0.377436</td>\n",
       "      <td>-1.387024</td>\n",
       "      <td>...</td>\n",
       "      <td>-0.108300</td>\n",
       "      <td>0.005274</td>\n",
       "      <td>-0.190321</td>\n",
       "      <td>-1.175575</td>\n",
       "      <td>0.647376</td>\n",
       "      <td>-0.221929</td>\n",
       "      <td>0.062723</td>\n",
       "      <td>0.061458</td>\n",
       "      <td>123.50</td>\n",
       "      <td>0</td>\n",
       "    </tr>\n",
       "    <tr>\n",
       "      <th>4</th>\n",
       "      <td>2</td>\n",
       "      <td>-1.158233</td>\n",
       "      <td>0.877737</td>\n",
       "      <td>1.548718</td>\n",
       "      <td>0.403034</td>\n",
       "      <td>-0.407193</td>\n",
       "      <td>0.095921</td>\n",
       "      <td>0.592941</td>\n",
       "      <td>-0.270533</td>\n",
       "      <td>0.817739</td>\n",
       "      <td>...</td>\n",
       "      <td>-0.009431</td>\n",
       "      <td>0.798278</td>\n",
       "      <td>-0.137458</td>\n",
       "      <td>0.141267</td>\n",
       "      <td>-0.206010</td>\n",
       "      <td>0.502292</td>\n",
       "      <td>0.219422</td>\n",
       "      <td>0.215153</td>\n",
       "      <td>69.99</td>\n",
       "      <td>0</td>\n",
       "    </tr>\n",
       "  </tbody>\n",
       "</table>\n",
       "<p>5 rows × 31 columns</p>\n",
       "</div>"
      ],
      "text/plain": [
       "   Time        V1        V2        V3        V4        V5        V6        V7  \\\n",
       "0     0 -1.359807 -0.072781  2.536347  1.378155 -0.338321  0.462388  0.239599   \n",
       "1     0  1.191857  0.266151  0.166480  0.448154  0.060018 -0.082361 -0.078803   \n",
       "2     1 -1.358354 -1.340163  1.773209  0.379780 -0.503198  1.800499  0.791461   \n",
       "3     1 -0.966272 -0.185226  1.792993 -0.863291 -0.010309  1.247203  0.237609   \n",
       "4     2 -1.158233  0.877737  1.548718  0.403034 -0.407193  0.095921  0.592941   \n",
       "\n",
       "         V8        V9  ...       V21       V22       V23       V24       V25  \\\n",
       "0  0.098698  0.363787  ... -0.018307  0.277838 -0.110474  0.066928  0.128539   \n",
       "1  0.085102 -0.255425  ... -0.225775 -0.638672  0.101288 -0.339846  0.167170   \n",
       "2  0.247676 -1.514654  ...  0.247998  0.771679  0.909412 -0.689281 -0.327642   \n",
       "3  0.377436 -1.387024  ... -0.108300  0.005274 -0.190321 -1.175575  0.647376   \n",
       "4 -0.270533  0.817739  ... -0.009431  0.798278 -0.137458  0.141267 -0.206010   \n",
       "\n",
       "        V26       V27       V28  Amount  Class  \n",
       "0 -0.189115  0.133558 -0.021053  149.62      0  \n",
       "1  0.125895 -0.008983  0.014724    2.69      0  \n",
       "2 -0.139097 -0.055353 -0.059752  378.66      0  \n",
       "3 -0.221929  0.062723  0.061458  123.50      0  \n",
       "4  0.502292  0.219422  0.215153   69.99      0  \n",
       "\n",
       "[5 rows x 31 columns]"
      ]
     },
     "execution_count": 4,
     "metadata": {},
     "output_type": "execute_result"
    }
   ],
   "source": [
    "dataset = pd.read_csv('data/creditcard_sample.csv')\n",
    "df = dataset.copy()\n",
    "df.head()"
   ]
  },
  {
   "cell_type": "markdown",
   "id": "9d5352b6",
   "metadata": {},
   "source": [
    "#### 데이터셋 설명\n",
    "\n",
    "2013년 9월 이틀동안 발생한 유럽카드 소지자의 거래내역 데이터, 개인정보 보호를 위해 익명으로 처리된 데이터셋 "
   ]
  },
  {
   "cell_type": "markdown",
   "id": "d0940050",
   "metadata": {},
   "source": [
    "### EDA"
   ]
  },
  {
   "cell_type": "code",
   "execution_count": 5,
   "id": "022aa069",
   "metadata": {},
   "outputs": [
    {
     "data": {
      "text/plain": [
       "(99999, 31)"
      ]
     },
     "execution_count": 5,
     "metadata": {},
     "output_type": "execute_result"
    }
   ],
   "source": [
    "df.shape"
   ]
  },
  {
   "cell_type": "code",
   "execution_count": 6,
   "id": "412f0301",
   "metadata": {},
   "outputs": [
    {
     "name": "stdout",
     "output_type": "stream",
     "text": [
      "<class 'pandas.core.frame.DataFrame'>\n",
      "RangeIndex: 99999 entries, 0 to 99998\n",
      "Data columns (total 31 columns):\n",
      " #   Column  Non-Null Count  Dtype  \n",
      "---  ------  --------------  -----  \n",
      " 0   Time    99999 non-null  int64  \n",
      " 1   V1      99999 non-null  float64\n",
      " 2   V2      99999 non-null  float64\n",
      " 3   V3      99999 non-null  float64\n",
      " 4   V4      99999 non-null  float64\n",
      " 5   V5      99999 non-null  float64\n",
      " 6   V6      99999 non-null  float64\n",
      " 7   V7      99999 non-null  float64\n",
      " 8   V8      99999 non-null  float64\n",
      " 9   V9      99999 non-null  float64\n",
      " 10  V10     99999 non-null  float64\n",
      " 11  V11     99999 non-null  float64\n",
      " 12  V12     99999 non-null  float64\n",
      " 13  V13     99999 non-null  float64\n",
      " 14  V14     99999 non-null  float64\n",
      " 15  V15     99999 non-null  float64\n",
      " 16  V16     99999 non-null  float64\n",
      " 17  V17     99999 non-null  float64\n",
      " 18  V18     99999 non-null  float64\n",
      " 19  V19     99999 non-null  float64\n",
      " 20  V20     99999 non-null  float64\n",
      " 21  V21     99999 non-null  float64\n",
      " 22  V22     99999 non-null  float64\n",
      " 23  V23     99999 non-null  float64\n",
      " 24  V24     99999 non-null  float64\n",
      " 25  V25     99999 non-null  float64\n",
      " 26  V26     99999 non-null  float64\n",
      " 27  V27     99999 non-null  float64\n",
      " 28  V28     99999 non-null  float64\n",
      " 29  Amount  99999 non-null  float64\n",
      " 30  Class   99999 non-null  int64  \n",
      "dtypes: float64(29), int64(2)\n",
      "memory usage: 23.7 MB\n"
     ]
    }
   ],
   "source": [
    "df.info()"
   ]
  },
  {
   "cell_type": "code",
   "execution_count": 7,
   "id": "9cdf6a7b",
   "metadata": {},
   "outputs": [
    {
     "data": {
      "text/html": [
       "<div>\n",
       "<style scoped>\n",
       "    .dataframe tbody tr th:only-of-type {\n",
       "        vertical-align: middle;\n",
       "    }\n",
       "\n",
       "    .dataframe tbody tr th {\n",
       "        vertical-align: top;\n",
       "    }\n",
       "\n",
       "    .dataframe thead th {\n",
       "        text-align: right;\n",
       "    }\n",
       "</style>\n",
       "<table border=\"1\" class=\"dataframe\">\n",
       "  <thead>\n",
       "    <tr style=\"text-align: right;\">\n",
       "      <th></th>\n",
       "      <th>Time</th>\n",
       "      <th>V1</th>\n",
       "      <th>V2</th>\n",
       "      <th>V3</th>\n",
       "      <th>V4</th>\n",
       "      <th>V5</th>\n",
       "      <th>V6</th>\n",
       "      <th>V7</th>\n",
       "      <th>V8</th>\n",
       "      <th>V9</th>\n",
       "      <th>...</th>\n",
       "      <th>V21</th>\n",
       "      <th>V22</th>\n",
       "      <th>V23</th>\n",
       "      <th>V24</th>\n",
       "      <th>V25</th>\n",
       "      <th>V26</th>\n",
       "      <th>V27</th>\n",
       "      <th>V28</th>\n",
       "      <th>Amount</th>\n",
       "      <th>Class</th>\n",
       "    </tr>\n",
       "  </thead>\n",
       "  <tbody>\n",
       "    <tr>\n",
       "      <th>count</th>\n",
       "      <td>99999.00</td>\n",
       "      <td>99999.00</td>\n",
       "      <td>99999.00</td>\n",
       "      <td>99999.00</td>\n",
       "      <td>99999.00</td>\n",
       "      <td>99999.00</td>\n",
       "      <td>99999.00</td>\n",
       "      <td>99999.00</td>\n",
       "      <td>99999.00</td>\n",
       "      <td>99999.00</td>\n",
       "      <td>...</td>\n",
       "      <td>99999.00</td>\n",
       "      <td>99999.00</td>\n",
       "      <td>99999.00</td>\n",
       "      <td>99999.00</td>\n",
       "      <td>99999.00</td>\n",
       "      <td>99999.00</td>\n",
       "      <td>99999.00</td>\n",
       "      <td>99999.00</td>\n",
       "      <td>99999.00</td>\n",
       "      <td>99999.00</td>\n",
       "    </tr>\n",
       "    <tr>\n",
       "      <th>mean</th>\n",
       "      <td>42432.98</td>\n",
       "      <td>-0.26</td>\n",
       "      <td>-0.03</td>\n",
       "      <td>0.68</td>\n",
       "      <td>0.16</td>\n",
       "      <td>-0.28</td>\n",
       "      <td>0.09</td>\n",
       "      <td>-0.11</td>\n",
       "      <td>0.06</td>\n",
       "      <td>-0.05</td>\n",
       "      <td>...</td>\n",
       "      <td>-0.03</td>\n",
       "      <td>-0.11</td>\n",
       "      <td>-0.04</td>\n",
       "      <td>0.01</td>\n",
       "      <td>0.13</td>\n",
       "      <td>0.03</td>\n",
       "      <td>0.00</td>\n",
       "      <td>0.00</td>\n",
       "      <td>97.96</td>\n",
       "      <td>0.00</td>\n",
       "    </tr>\n",
       "    <tr>\n",
       "      <th>std</th>\n",
       "      <td>17044.83</td>\n",
       "      <td>1.86</td>\n",
       "      <td>1.66</td>\n",
       "      <td>1.32</td>\n",
       "      <td>1.35</td>\n",
       "      <td>1.36</td>\n",
       "      <td>1.30</td>\n",
       "      <td>1.21</td>\n",
       "      <td>1.21</td>\n",
       "      <td>1.12</td>\n",
       "      <td>...</td>\n",
       "      <td>0.72</td>\n",
       "      <td>0.63</td>\n",
       "      <td>0.63</td>\n",
       "      <td>0.60</td>\n",
       "      <td>0.44</td>\n",
       "      <td>0.49</td>\n",
       "      <td>0.39</td>\n",
       "      <td>0.33</td>\n",
       "      <td>264.62</td>\n",
       "      <td>0.05</td>\n",
       "    </tr>\n",
       "    <tr>\n",
       "      <th>min</th>\n",
       "      <td>0.00</td>\n",
       "      <td>-56.41</td>\n",
       "      <td>-72.72</td>\n",
       "      <td>-33.68</td>\n",
       "      <td>-5.17</td>\n",
       "      <td>-42.15</td>\n",
       "      <td>-26.16</td>\n",
       "      <td>-31.76</td>\n",
       "      <td>-73.22</td>\n",
       "      <td>-9.28</td>\n",
       "      <td>...</td>\n",
       "      <td>-34.83</td>\n",
       "      <td>-10.93</td>\n",
       "      <td>-44.81</td>\n",
       "      <td>-2.84</td>\n",
       "      <td>-10.30</td>\n",
       "      <td>-2.53</td>\n",
       "      <td>-9.39</td>\n",
       "      <td>-9.62</td>\n",
       "      <td>0.00</td>\n",
       "      <td>0.00</td>\n",
       "    </tr>\n",
       "    <tr>\n",
       "      <th>25%</th>\n",
       "      <td>33471.50</td>\n",
       "      <td>-1.03</td>\n",
       "      <td>-0.60</td>\n",
       "      <td>0.18</td>\n",
       "      <td>-0.71</td>\n",
       "      <td>-0.90</td>\n",
       "      <td>-0.65</td>\n",
       "      <td>-0.60</td>\n",
       "      <td>-0.14</td>\n",
       "      <td>-0.70</td>\n",
       "      <td>...</td>\n",
       "      <td>-0.22</td>\n",
       "      <td>-0.53</td>\n",
       "      <td>-0.18</td>\n",
       "      <td>-0.32</td>\n",
       "      <td>-0.13</td>\n",
       "      <td>-0.33</td>\n",
       "      <td>-0.06</td>\n",
       "      <td>-0.01</td>\n",
       "      <td>7.57</td>\n",
       "      <td>0.00</td>\n",
       "    </tr>\n",
       "    <tr>\n",
       "      <th>50%</th>\n",
       "      <td>44299.00</td>\n",
       "      <td>-0.26</td>\n",
       "      <td>0.08</td>\n",
       "      <td>0.75</td>\n",
       "      <td>0.19</td>\n",
       "      <td>-0.31</td>\n",
       "      <td>-0.16</td>\n",
       "      <td>-0.07</td>\n",
       "      <td>0.07</td>\n",
       "      <td>-0.12</td>\n",
       "      <td>...</td>\n",
       "      <td>-0.06</td>\n",
       "      <td>-0.08</td>\n",
       "      <td>-0.05</td>\n",
       "      <td>0.06</td>\n",
       "      <td>0.17</td>\n",
       "      <td>-0.07</td>\n",
       "      <td>0.01</td>\n",
       "      <td>0.02</td>\n",
       "      <td>26.31</td>\n",
       "      <td>0.00</td>\n",
       "    </tr>\n",
       "    <tr>\n",
       "      <th>75%</th>\n",
       "      <td>55851.00</td>\n",
       "      <td>1.15</td>\n",
       "      <td>0.74</td>\n",
       "      <td>1.38</td>\n",
       "      <td>1.03</td>\n",
       "      <td>0.25</td>\n",
       "      <td>0.49</td>\n",
       "      <td>0.41</td>\n",
       "      <td>0.36</td>\n",
       "      <td>0.56</td>\n",
       "      <td>...</td>\n",
       "      <td>0.12</td>\n",
       "      <td>0.31</td>\n",
       "      <td>0.08</td>\n",
       "      <td>0.41</td>\n",
       "      <td>0.42</td>\n",
       "      <td>0.30</td>\n",
       "      <td>0.08</td>\n",
       "      <td>0.08</td>\n",
       "      <td>89.00</td>\n",
       "      <td>0.00</td>\n",
       "    </tr>\n",
       "    <tr>\n",
       "      <th>max</th>\n",
       "      <td>67374.00</td>\n",
       "      <td>1.96</td>\n",
       "      <td>18.90</td>\n",
       "      <td>4.23</td>\n",
       "      <td>16.72</td>\n",
       "      <td>34.80</td>\n",
       "      <td>22.53</td>\n",
       "      <td>36.68</td>\n",
       "      <td>20.01</td>\n",
       "      <td>10.39</td>\n",
       "      <td>...</td>\n",
       "      <td>22.61</td>\n",
       "      <td>10.50</td>\n",
       "      <td>19.00</td>\n",
       "      <td>4.01</td>\n",
       "      <td>5.54</td>\n",
       "      <td>3.52</td>\n",
       "      <td>12.15</td>\n",
       "      <td>33.85</td>\n",
       "      <td>19656.53</td>\n",
       "      <td>1.00</td>\n",
       "    </tr>\n",
       "  </tbody>\n",
       "</table>\n",
       "<p>8 rows × 31 columns</p>\n",
       "</div>"
      ],
      "text/plain": [
       "           Time        V1        V2        V3        V4        V5        V6  \\\n",
       "count  99999.00  99999.00  99999.00  99999.00  99999.00  99999.00  99999.00   \n",
       "mean   42432.98     -0.26     -0.03      0.68      0.16     -0.28      0.09   \n",
       "std    17044.83      1.86      1.66      1.32      1.35      1.36      1.30   \n",
       "min        0.00    -56.41    -72.72    -33.68     -5.17    -42.15    -26.16   \n",
       "25%    33471.50     -1.03     -0.60      0.18     -0.71     -0.90     -0.65   \n",
       "50%    44299.00     -0.26      0.08      0.75      0.19     -0.31     -0.16   \n",
       "75%    55851.00      1.15      0.74      1.38      1.03      0.25      0.49   \n",
       "max    67374.00      1.96     18.90      4.23     16.72     34.80     22.53   \n",
       "\n",
       "             V7        V8        V9  ...       V21       V22       V23  \\\n",
       "count  99999.00  99999.00  99999.00  ...  99999.00  99999.00  99999.00   \n",
       "mean      -0.11      0.06     -0.05  ...     -0.03     -0.11     -0.04   \n",
       "std        1.21      1.21      1.12  ...      0.72      0.63      0.63   \n",
       "min      -31.76    -73.22     -9.28  ...    -34.83    -10.93    -44.81   \n",
       "25%       -0.60     -0.14     -0.70  ...     -0.22     -0.53     -0.18   \n",
       "50%       -0.07      0.07     -0.12  ...     -0.06     -0.08     -0.05   \n",
       "75%        0.41      0.36      0.56  ...      0.12      0.31      0.08   \n",
       "max       36.68     20.01     10.39  ...     22.61     10.50     19.00   \n",
       "\n",
       "            V24       V25       V26       V27       V28    Amount     Class  \n",
       "count  99999.00  99999.00  99999.00  99999.00  99999.00  99999.00  99999.00  \n",
       "mean       0.01      0.13      0.03      0.00      0.00     97.96      0.00  \n",
       "std        0.60      0.44      0.49      0.39      0.33    264.62      0.05  \n",
       "min       -2.84    -10.30     -2.53     -9.39     -9.62      0.00      0.00  \n",
       "25%       -0.32     -0.13     -0.33     -0.06     -0.01      7.57      0.00  \n",
       "50%        0.06      0.17     -0.07      0.01      0.02     26.31      0.00  \n",
       "75%        0.41      0.42      0.30      0.08      0.08     89.00      0.00  \n",
       "max        4.01      5.54      3.52     12.15     33.85  19656.53      1.00  \n",
       "\n",
       "[8 rows x 31 columns]"
      ]
     },
     "execution_count": 7,
     "metadata": {},
     "output_type": "execute_result"
    }
   ],
   "source": [
    "# 기술 통계 \n",
    "\n",
    "df.describe().round(2)"
   ]
  },
  {
   "cell_type": "code",
   "execution_count": 8,
   "id": "471c088f",
   "metadata": {},
   "outputs": [
    {
     "name": "stdout",
     "output_type": "stream",
     "text": [
      "Not Fraud    99776\n",
      "Fraud          223\n",
      "Name: Class, dtype: int64\n"
     ]
    }
   ],
   "source": [
    "# 사기 거래수 확인 \n",
    "\n",
    "class_name = {0 : 'Not Fraud', 1 : 'Fraud'}\n",
    "print(df.Class.value_counts().rename(index = class_name))"
   ]
  },
  {
   "cell_type": "markdown",
   "id": "0a53b19f",
   "metadata": {},
   "source": [
    "데이터 레이블의 불균형이 극심하다.  대부분의 거래가 사기가 아니기 때문     \n",
    "데이터셋을 모델링의 기반으로 사용하면 대부분의 모델은 사기신호에는 큰 가중치를 두지 않는다. 비사기 데이터 포인트는 사기 신호가 제공하는 모든 가중치를 제거한다. 따라서 사기 예측을 모델링하는데 어려움을 겪을 수 있으며, 이러한 불균형으로 모델은 모든 거래가 사기가 아니라고 가정하게 되는, 받아들일 수 없는 결과를 도출. 이를 해결해야 함 "
   ]
  },
  {
   "cell_type": "markdown",
   "id": "5426290f",
   "metadata": {},
   "source": [
    "### 데이터 시작화"
   ]
  },
  {
   "cell_type": "code",
   "execution_count": 9,
   "id": "c908f027",
   "metadata": {},
   "outputs": [
    {
     "data": {
      "image/png": "[encoded data removed]",
      "text/plain": [
       "<Figure size 864x864 with 36 Axes>"
      ]
     },
     "metadata": {
      "needs_background": "light"
     },
     "output_type": "display_data"
    }
   ],
   "source": [
    "# histograms\n",
    "df.hist(sharex=False, sharey=False, xlabelsize=1, ylabelsize=1, figsize=(12,12))\n",
    "plt.show()"
   ]
  },
  {
   "cell_type": "markdown",
   "id": "1e01a5ed",
   "metadata": {},
   "source": [
    "변수명을 알 수 없고 분포가 왜도가 있음으로 히스토그램을 통해 많은 정보들 얻기 힘들다."
   ]
  },
  {
   "cell_type": "markdown",
   "id": "da36fc0f",
   "metadata": {},
   "source": [
    "### 데이터 준비"
   ]
  },
  {
   "cell_type": "code",
   "execution_count": 10,
   "id": "5f621fac",
   "metadata": {},
   "outputs": [
    {
     "name": "stdout",
     "output_type": "stream",
     "text": [
      "Null Values = False\n"
     ]
    }
   ],
   "source": [
    "print('Null Values =',df.isnull().values.any())"
   ]
  },
  {
   "cell_type": "markdown",
   "id": "70526eb4",
   "metadata": {},
   "source": [
    "### 피쳐 선택 "
   ]
  },
  {
   "cell_type": "code",
   "execution_count": 11,
   "id": "649e18bf",
   "metadata": {},
   "outputs": [
    {
     "name": "stdout",
     "output_type": "stream",
     "text": [
      "   Specs         Score\n",
      "17   V17  20657.815089\n",
      "14   V14  16227.609484\n",
      "3     V3  10383.968697\n",
      "12   V12   9644.179908\n",
      "10   V10   7909.706201\n",
      "16   V16   6829.652688\n",
      "7     V7   6157.563975\n",
      "11   V11   3567.597482\n",
      "4     V4   2840.799746\n",
      "18   V18   2632.036670\n"
     ]
    }
   ],
   "source": [
    "from sklearn.feature_selection import SelectKBest\n",
    "from sklearn.feature_selection import chi2\n",
    "\n",
    "bestfeatures = SelectKBest( k=10)\n",
    "bestfeatures\n",
    "y = dataset[\"Class\"]\n",
    "X = dataset.loc[:, dataset.columns != 'Class']\n",
    "fit = bestfeatures.fit(X,y)\n",
    "dfscores = pd.DataFrame(fit.scores_)\n",
    "dfcolumns = pd.DataFrame(X.columns)\n",
    "\n",
    "featureScores = pd.concat([dfcolumns,dfscores],axis=1)\n",
    "featureScores.columns = ['Specs','Score']  \n",
    "print(featureScores.nlargest(10,'Score'))  "
   ]
  },
  {
   "cell_type": "markdown",
   "id": "d0a184ec",
   "metadata": {},
   "source": [
    "## 모델 평가"
   ]
  },
  {
   "cell_type": "markdown",
   "id": "8b9315db",
   "metadata": {},
   "source": [
    "### 데스트 분할 및 평가 메트릭 "
   ]
  },
  {
   "cell_type": "code",
   "execution_count": 12,
   "id": "4d304770",
   "metadata": {},
   "outputs": [],
   "source": [
    "y = df['Class']\n",
    "X = df.loc[:, df.columns != 'Class']\n",
    "validataion_size = 0.2\n",
    "seed = 7\n",
    "\n",
    "X_train, X_test , y_train, y_test = train_test_split(X, y , test_size= validataion_size,random_state= seed)"
   ]
  },
  {
   "cell_type": "markdown",
   "id": "4a22be77",
   "metadata": {},
   "source": [
    "### 모델확인 "
   ]
  },
  {
   "cell_type": "code",
   "execution_count": 13,
   "id": "4726e4db",
   "metadata": {},
   "outputs": [],
   "source": [
    "# 분류 옵션 테스트 \n",
    "# 모델의 다양한 하이퍼파라미터를 최적화 하기 위해 10-겹 교차검증 사용 \n",
    "\n",
    "num_folds = 10\n",
    "scoring = 'accuracy'"
   ]
  },
  {
   "cell_type": "code",
   "execution_count": 14,
   "id": "f89d9c61",
   "metadata": {},
   "outputs": [],
   "source": [
    "models = []\n",
    "models.append(('LR', LogisticRegression()))\n",
    "models.append(('LDA', LinearDiscriminantAnalysis()))\n",
    "models.append(('KNN', KNeighborsClassifier()))\n",
    "models.append(('CART', DecisionTreeClassifier()))\n",
    "#models.append(('NB', GaussianNB()))\n",
    "#models.append(('SVM', SVC()))"
   ]
  },
  {
   "cell_type": "code",
   "execution_count": 15,
   "id": "9010ad7e",
   "metadata": {},
   "outputs": [],
   "source": [
    "# Neural Network\n",
    "#models.append(('NN', MLPClassifier()))\n",
    "\n",
    "#Ensable Models \n",
    "#Boosting methods\n",
    "#models.append(('AB', AdaBoostClassifier()))\n",
    "#models.append(('GBM', GradientBoostingClassifier()))\n",
    "\n",
    "#Bagging methods\n",
    "#models.append(('RF', RandomForestClassifier()))\n",
    "#models.append(('ET', ExtraTreesClassifier()))"
   ]
  },
  {
   "cell_type": "code",
   "execution_count": 16,
   "id": "fc3e995b",
   "metadata": {},
   "outputs": [
    {
     "name": "stdout",
     "output_type": "stream",
     "text": [
      "LR: 0.998487 (0.000328)\n",
      "LDA: 0.999100 (0.000361)\n",
      "KNN: 0.997925 (0.000363)\n",
      "CART: 0.999225 (0.000255)\n"
     ]
    }
   ],
   "source": [
    "# 알고리즘은 기본 튜닝 매개변수를 사용\n",
    "# 알고리즘 정확도, 평균과 표준편차 확인 \n",
    "\n",
    "results = []\n",
    "names = []\n",
    "\n",
    "for name, model in models :\n",
    "    kfold = KFold(n_splits= num_folds , random_state= seed , shuffle= True)\n",
    "    cv_results = cross_val_score(model , X_train, y_train , cv = kfold , scoring= scoring)\n",
    "    \n",
    "    results.append(cv_results)\n",
    "    names.append(name)\n",
    "    \n",
    "    msg = \"%s: %f (%f)\" % (name, cv_results.mean(), cv_results.std())\n",
    "    print(msg)"
   ]
  },
  {
   "cell_type": "code",
   "execution_count": 17,
   "id": "a6df2ac9",
   "metadata": {},
   "outputs": [
    {
     "data": {
      "image/png": "[encoded data removed]",
      "text/plain": [
       "<Figure size 1440x720 with 1 Axes>"
      ]
     },
     "metadata": {
      "needs_background": "light"
     },
     "output_type": "display_data"
    }
   ],
   "source": [
    "# 알고리즘 비교 \n",
    "\n",
    "fig = plt.figure()\n",
    "fig.suptitle('Algorithm Comparison')\n",
    "ax = fig.add_subplot(111)\n",
    "plt.boxplot(results)\n",
    "ax.set_xticklabels(names)\n",
    "fig.set_size_inches(20,10)\n",
    "plt.show()"
   ]
  },
  {
   "cell_type": "code",
   "execution_count": 18,
   "id": "355dffd6",
   "metadata": {},
   "outputs": [
    {
     "name": "stdout",
     "output_type": "stream",
     "text": [
      "0.99915\n",
      "              precision    recall  f1-score   support\n",
      "\n",
      "           0       1.00      1.00      1.00     19946\n",
      "           1       0.88      0.80      0.83        54\n",
      "\n",
      "    accuracy                           1.00     20000\n",
      "   macro avg       0.94      0.90      0.92     20000\n",
      "weighted avg       1.00      1.00      1.00     20000\n",
      "\n"
     ]
    }
   ],
   "source": [
    "# 모델 준비\n",
    "model = DecisionTreeClassifier()\n",
    "model.fit(X_train, y_train)\n",
    "\n",
    "# 검증셋에 대한 정확도 추정 \n",
    "\n",
    "pred = model.predict(X_test)\n",
    "print(accuracy_score(y_test , pred))\n",
    "print(classification_report(y_test , pred))"
   ]
  },
  {
   "cell_type": "code",
   "execution_count": 19,
   "id": "fe155f97",
   "metadata": {},
   "outputs": [
    {
     "data": {
      "image/png": "[encoded data removed]",
      "text/plain": [
       "<Figure size 432x288 with 2 Axes>"
      ]
     },
     "metadata": {
      "needs_background": "light"
     },
     "output_type": "display_data"
    }
   ],
   "source": [
    "# 혼동 행렬 \n",
    "\n",
    "df_cm = pd.DataFrame(confusion_matrix(y_test , pred),columns= np.unique(y_test), index = np.unique(y_test))\n",
    "df_cm.index.name = 'Actual'\n",
    "df_cm.columns.name = 'Predicted'\n",
    "\n",
    "sns.heatmap(df_cm , cmap = 'Blues' , annot = True, annot_kws= {'size': 16})\n",
    "plt.show()"
   ]
  },
  {
   "cell_type": "markdown",
   "id": "edde3eb5",
   "metadata": {},
   "source": [
    "높은 정확도 수준에도 100건의 사기중 11건이 누락되어 비사기로 잘못 예측 되었다.   \n",
    "\n",
    "* 정확도 : 모든 예측의 비율로 만들어진 정확한 예측의 수\n",
    "* 정밀도 : 모델에서 양성으로 식별된 총 항목 중 양성으로 올바르게 식별된 항목의 수 \n",
    "* 재현율 : 총 양성 중 양성으로 올라르게 식별된 총 항목 수\n",
    "\n",
    "유형의 문제에서는 참 양성과 거짓음성의 합에 대한 참 양성 비율인 재현율에 초점을 맞춰야함 "
   ]
  },
  {
   "cell_type": "markdown",
   "id": "6d3d7dd5",
   "metadata": {},
   "source": [
    "## 모델 튜닝   \n",
    "\n",
    "불균현한 데이터셋으로 인해 모델성능이 저하되었으므로 이점에 집중.   \n",
    "올바른 평가 측정 항목을 선택했을 때의 영향을 분석, 튜닝되고 잡힌 샘플을 사용할때의 영향을 확인 "
   ]
  },
  {
   "cell_type": "markdown",
   "id": "fe8e9dfe",
   "metadata": {},
   "source": [
    "### 올바른 평가 메트릭을 선택한 모델 튜닝 "
   ]
  },
  {
   "cell_type": "code",
   "execution_count": 20,
   "id": "58d92ba9",
   "metadata": {},
   "outputs": [],
   "source": [
    "scoring = 'recall'"
   ]
  },
  {
   "cell_type": "code",
   "execution_count": 21,
   "id": "82ebf4b1",
   "metadata": {},
   "outputs": [],
   "source": [
    "models = []\n",
    "models.append(('LR', LogisticRegression()))\n",
    "models.append(('LDA', LinearDiscriminantAnalysis()))\n",
    "models.append(('KNN', KNeighborsClassifier()))\n",
    "models.append(('CART', DecisionTreeClassifier()))"
   ]
  },
  {
   "cell_type": "code",
   "execution_count": 22,
   "id": "d74b9c17",
   "metadata": {},
   "outputs": [
    {
     "name": "stdout",
     "output_type": "stream",
     "text": [
      "LR: 0.501594 (0.091759)\n",
      "LDA: 0.761890 (0.148240)\n",
      "KNN: 0.020168 (0.044498)\n",
      "CART: 0.804531 (0.095055)\n"
     ]
    }
   ],
   "source": [
    "# 재현율로 결과 평가 \n",
    "\n",
    "results = []\n",
    "names = []\n",
    "for name, model in models:\n",
    "    kfold = KFold(n_splits=num_folds, random_state=seed, shuffle=True)\n",
    "    cv_results = cross_val_score(model, X_train, y_train, cv=kfold, scoring=scoring)\n",
    "    results.append(cv_results)\n",
    "    names.append(name)\n",
    "    msg = \"%s: %f (%f)\" % (name, cv_results.mean(), cv_results.std())\n",
    "    print(msg)"
   ]
  },
  {
   "cell_type": "markdown",
   "id": "9da47bdf",
   "metadata": {},
   "source": [
    "    재현율이 가장높은 CART 모델을 사용해 테스트셋 평가 \n",
    "    책에서는 LDA에 사용"
   ]
  },
  {
   "cell_type": "code",
   "execution_count": 23,
   "id": "7b209a64",
   "metadata": {},
   "outputs": [
    {
     "data": {
      "text/plain": [
       "DecisionTreeClassifier()"
      ]
     },
     "execution_count": 23,
     "metadata": {},
     "output_type": "execute_result"
    }
   ],
   "source": [
    "model = DecisionTreeClassifier()\n",
    "model.fit(X_train, y_train)"
   ]
  },
  {
   "cell_type": "code",
   "execution_count": 24,
   "id": "34ba3181",
   "metadata": {},
   "outputs": [
    {
     "name": "stdout",
     "output_type": "stream",
     "text": [
      "0.99895\n"
     ]
    }
   ],
   "source": [
    "pred = model.predict(X_test)\n",
    "print(accuracy_score(y_test, pred))"
   ]
  },
  {
   "cell_type": "code",
   "execution_count": 25,
   "id": "14b40fd9",
   "metadata": {},
   "outputs": [
    {
     "data": {
      "image/png": "[encoded data removed]",
      "text/plain": [
       "<Figure size 432x288 with 2 Axes>"
      ]
     },
     "metadata": {
      "needs_background": "light"
     },
     "output_type": "display_data"
    }
   ],
   "source": [
    "df_cm = pd.DataFrame(confusion_matrix(y_test , pred),columns= np.unique(y_test), index = np.unique(y_test))\n",
    "df_cm.index.name = 'Actual'\n",
    "df_cm.columns.name = 'Predicted'\n",
    "\n",
    "sns.heatmap(df_cm , cmap = 'Blues' , annot = True, annot_kws= {'size': 16})\n",
    "plt.show()"
   ]
  },
  {
   "cell_type": "markdown",
   "id": "c29559fb",
   "metadata": {},
   "source": [
    "### 모델 튜닝 - 무작위 언더샘플링으로 샘플 균형 잡기"
   ]
  },
  {
   "cell_type": "markdown",
   "id": "000f619f",
   "metadata": {},
   "source": [
    "현재 데이터는 '사기'라는 레이블이 붙은 데이터 포인트가 거의 없는 심각한 클래스 불균형을 보여준다. 클래스 불균형 문제는 다수 클래스에 대한 심각한 편향을 초래해 분류성능을 저하시키고 거짓 음성을 증가 시킬 수 있다. **이러한 상황을 다루는 방법 중 하나는 언더샘플링하는 것이다.**. \n"
   ]
  },
  {
   "cell_type": "markdown",
   "id": "285eeda4",
   "metadata": {},
   "source": [
    "### 언더샘플링과 오버샘플링 "
   ]
  },
  {
   "attachments": {
    "image-2.png": {
     "image/png": "[encoded data removed]"
    },
    "image.png": {
     "image/png": "[encoded data removed]"
    }
   },
   "cell_type": "markdown",
   "id": "9785fafb",
   "metadata": {},
   "source": [
    "![image.png](attachment:image.png)\n",
    "\n",
    "> 언더 샘플링은 불균형한 데이터 셋에서 높은 비율을 차지하던 클래스의 데이터 수를 줄임으로써 데이터 불균형을 해소하는 방법\n",
    "  하지만 이 방법은 학습에 사용되는 전체 데이터 수를 급격하게 감소시켜 오히려 성능이 떨어질 수 있다.\n",
    "  \n",
    "> 오버 샘플링은 낮은 비율 클래스의 데이터 수를 늘림으로써 데이터 불균형을 해소하는 방법\n",
    "이 방법이 가능하다면 언더 샘플링보다 훨씬 좋은 해결책이 될 수 있을것 같은데, 문제는 \"어떻게\" 없던 데이터를 생성하느냐 이다. \n",
    "\n",
    "\n",
    "\n",
    "\n",
    "\n",
    "#### SMOTE 개념\n",
    "대표적인 방법으로 소개할 개념은  SMOTE(Synthetic Minority Over-sampling Technique) 입니다.\n",
    "\n",
    "SMOTE 는 낮은 비율 클래스 데이터들의 최근접 이웃을 이용하여 새로운 데이터를 생성합니다.\n",
    "\n",
    "완전히 똑같은 특성을 가진 데이터를 복사하는 것은 의미가 없기 때문에,  \n",
    "\n",
    "그림과 같이 근접해 있는 데이터들과 일정한 거리를 떨어진 위치에 데이터를 생성하는 것입니다.\n",
    "\n",
    "![image-2.png](attachment:image-2.png)\n",
    "\n",
    "\n",
    "\n",
    "\n",
    " \n",
    "\n",
    "하지만 오버 샘플링을 고려할때 주의할 점 \n",
    "\n",
    "재현율과 정밀도이다. \n",
    "\n",
    "양성 데이터가 음성 데이터보다 훨씬 부족한 데이터로 예를 들었을때,\n",
    "\n",
    "오버 샘플링을 하게 되면 양성으로 예측하는 비율이 높아지기 때문에 정밀도가 감소 된다. (반대로 재현율은 증가하게 된다).\n",
    "\n",
    "따라서 정밀도의 감소율을 낮추고 재현율의 증가율은 높이는 방법에 유의하며 SMOTE 패키지를 사용해야 한다. \n",
    "\n",
    "참조 : https://hwi-doc.tistory.com/entry/%EC%96%B8%EB%8D%94-%EC%83%98%ED%94%8C%EB%A7%81Undersampling%EA%B3%BC-%EC%98%A4%EB%B2%84-%EC%83%98%ED%94%8C%EB%A7%81Oversampling"
   ]
  },
  {
   "cell_type": "markdown",
   "id": "28706b52",
   "metadata": {},
   "source": [
    "### 언더 샘플링 구현 단계"
   ]
  },
  {
   "cell_type": "markdown",
   "id": "45e46f4e",
   "metadata": {},
   "source": [
    " - 클래스 열에서 value_counts()를 사용해 클래스 불균형의 심각도를 확인, 사기 거래로 간주되는 사례가 어느 정도인지 확인  \n",
    " \n",
    " \n",
    " - 사기 거래량 만큼 비사기 거래량을 가져온다. 50/50 비율을 원한다고 가정하면 이는 169건의 사기와 169건의 비사기 거래가 된다.  \n",
    " \n",
    " \n",
    " - 50/50 클래스 비율의 데이터 프레임 서브 샘플이 되었다. 이 서브 샘플에서 모델을 훈련한다. 그런 다음 이 과정을 반복 수행해 훈련 샘플에 있는 비사기 관측치를 섞는다. "
   ]
  },
  {
   "cell_type": "code",
   "execution_count": 26,
   "id": "25e3fd75",
   "metadata": {},
   "outputs": [
    {
     "data": {
      "text/plain": [
       "91525    0\n",
       "19416    0\n",
       "99078    0\n",
       "45086    0\n",
       "54659    0\n",
       "Name: Class, dtype: int64"
      ]
     },
     "execution_count": 26,
     "metadata": {},
     "output_type": "execute_result"
    }
   ],
   "source": [
    "y_train.head()"
   ]
  },
  {
   "cell_type": "code",
   "execution_count": 32,
   "id": "67737d47",
   "metadata": {},
   "outputs": [],
   "source": [
    "df = pd.concat([X_train, y_train] , axis = 1)\n",
    "\n",
    "# 169행의 사기 등급 \n",
    "fraud_df = df.loc[df['Class'] == 1]\n",
    "non_fraud_df = df.loc[df['Class'] == 0][:169]\n",
    "normal_distributed_df = pd.concat([fraud_df , non_fraud_df])\n",
    "\n",
    "# 데이터프레임 행 셔플 \n",
    "df_new  = normal_distributed_df.sample(frac = 1 , random_state= 42)\n",
    "\n",
    "# 검증 데이터셋 분할 \n",
    "y_train_new = df_new['Class']\n",
    "x_train_new = df_new.loc[: , dataset.columns != 'Class']"
   ]
  },
  {
   "cell_type": "code",
   "execution_count": null,
   "id": "7382ae05",
   "metadata": {},
   "outputs": [],
   "source": [
    "print('Distribution of the Classes in the subsample dataset')\n",
    "print(df_new['Class'].value_counts()/len(df_new))\n",
    "sns.countplot('Class', data=df_new)\n",
    "plt.title('Equally Distributed Classes', fontsize=14)\n",
    "plt.show()"
   ]
  },
  {
   "cell_type": "code",
   "execution_count": 34,
   "id": "20f35b1d",
   "metadata": {},
   "outputs": [],
   "source": [
    "scoring='accuracy'"
   ]
  },
  {
   "cell_type": "code",
   "execution_count": 35,
   "id": "fdbb8302",
   "metadata": {},
   "outputs": [],
   "source": [
    "models = []\n",
    "models.append(('LR', LogisticRegression()))\n",
    "models.append(('LDA', LinearDiscriminantAnalysis()))\n",
    "models.append(('KNN', KNeighborsClassifier()))\n",
    "models.append(('CART', DecisionTreeClassifier()))\n",
    "models.append(('NB', GaussianNB()))\n",
    "models.append(('SVM', SVC()))\n",
    "\n",
    "# Neural Network\n",
    "models.append(('NN', MLPClassifier()))\n",
    "\n",
    "#Ensable Models \n",
    "#Boosting methods\n",
    "models.append(('AB', AdaBoostClassifier()))\n",
    "models.append(('GBM', GradientBoostingClassifier()))\n",
    "\n",
    "#Bagging methods\n",
    "models.append(('RF', RandomForestClassifier()))\n",
    "models.append(('ET', ExtraTreesClassifier()))"
   ]
  },
  {
   "cell_type": "code",
   "execution_count": 52,
   "id": "680459b5",
   "metadata": {},
   "outputs": [],
   "source": [
    "# 딥러닝 모델 구현 \n",
    "\n",
    "# 케라스 분류기에 필요한 모델 생성 함수 \n",
    "\n",
    "EnableDLModelsFlag = 1\n",
    "if EnableDLModelsFlag == 1 :   \n",
    "    def create_model (nerons =12 , activation = 'relu', learning_rate = 0.01, momentum = 0) :\n",
    "        \n",
    "        # 모델생성 \n",
    "        model = Sequential()\n",
    "        model.add(Dense(X_train.shape[1], input_dim = X_train.shape[1], activation = activation))\n",
    "        model.add(Dense(32, activation = activation))\n",
    "        model.add(Dense(1 , activation = 'sigmoid'))\n",
    "    \n",
    "        # 모델 컴파일 \n",
    "        optimizer = SGD(lr=learning_rate, momentum=momentum)\n",
    "        model.compile(loss='binary_crossentropy', optimizer='adam', metrics=['accuracy'])\n",
    "        return model    \n",
    "    \n",
    "    models.append(('DNN', KerasClassifier(build_fn=create_model, epochs=50, batch_size=10, verbose=0)))"
   ]
  },
  {
   "cell_type": "code",
   "execution_count": 53,
   "id": "5e41dfc2",
   "metadata": {},
   "outputs": [
    {
     "name": "stdout",
     "output_type": "stream",
     "text": [
      "LR: 0.950068 (0.019242)\n",
      "LDA: 0.941090 (0.033857)\n",
      "KNN: 0.758005 (0.037228)\n",
      "CART: 0.937992 (0.036731)\n",
      "NB: 0.948598 (0.030366)\n",
      "SVM: 0.744346 (0.037229)\n",
      "NN: 0.812370 (0.066543)\n",
      "AB: 0.963682 (0.019418)\n",
      "GBM: 0.963682 (0.023679)\n",
      "RF: 0.969765 (0.016537)\n",
      "ET: 0.972795 (0.017601)\n",
      "DNN: nan (nan)\n",
      "DNN: nan (nan)\n",
      "DNN: 0.739733 (0.256174)\n",
      "DNN: 0.759317 (0.215273)\n"
     ]
    }
   ],
   "source": [
    "results = []\n",
    "names = []\n",
    "for name, model in models:\n",
    "    kfold = KFold(n_splits=num_folds, random_state=seed, shuffle=True)\n",
    "    cv_results = cross_val_score(model, x_train_new, y_train_new, cv=kfold, scoring=scoring)\n",
    "    results.append(cv_results)\n",
    "    names.append(name)\n",
    "    msg = \"%s: %f (%f)\" % (name, cv_results.mean(), cv_results.std())\n",
    "    print(msg)"
   ]
  },
  {
   "cell_type": "code",
   "execution_count": 55,
   "id": "a0779327",
   "metadata": {},
   "outputs": [
    {
     "data": {
      "image/png": "[encoded data removed]",
      "text/plain": [
       "<Figure size 576x288 with 1 Axes>"
      ]
     },
     "metadata": {
      "needs_background": "light"
     },
     "output_type": "display_data"
    }
   ],
   "source": [
    "fig = plt.figure()\n",
    "fig.suptitle('Algorithm Comparison')\n",
    "ax = fig.add_subplot(111)\n",
    "plt.boxplot(results)\n",
    "ax.set_xticklabels(names)\n",
    "fig.set_size_inches(8,4)\n",
    "plt.show()"
   ]
  },
  {
   "cell_type": "code",
   "execution_count": 57,
   "id": "d36ee8d8",
   "metadata": {},
   "outputs": [
    {
     "name": "stdout",
     "output_type": "stream",
     "text": [
      "Best: 0.965197 using {'max_depth': 2, 'n_estimators': 180}\n",
      "#7 0.957621 (0.018954) with: {'max_depth': 2, 'n_estimators': 20}\n",
      "#1 0.965197 (0.015241) with: {'max_depth': 2, 'n_estimators': 180}\n",
      "#5 0.960651 (0.016897) with: {'max_depth': 2, 'n_estimators': 1000}\n",
      "#8 0.954591 (0.022504) with: {'max_depth': 3, 'n_estimators': 20}\n",
      "#2 0.963682 (0.021654) with: {'max_depth': 3, 'n_estimators': 180}\n",
      "#3 0.962166 (0.021710) with: {'max_depth': 3, 'n_estimators': 1000}\n",
      "#8 0.954591 (0.020362) with: {'max_depth': 5, 'n_estimators': 20}\n",
      "#6 0.959136 (0.022546) with: {'max_depth': 5, 'n_estimators': 180}\n",
      "#4 0.962166 (0.022743) with: {'max_depth': 5, 'n_estimators': 1000}\n"
     ]
    }
   ],
   "source": [
    "# Grid Search: GradientBoosting Tuning\n",
    "'''\n",
    "n_estimators : int (default=100)\n",
    "    The number of boosting stages to perform. \n",
    "    Gradient boosting is fairly robust to over-fitting so a large number usually results in better performance.\n",
    "max_depth : integer, optional (default=3)\n",
    "    maximum depth of the individual regression estimators. \n",
    "    The maximum depth limits the number of nodes in the tree. \n",
    "    Tune this parameter for best performance; the best value depends on the interaction of the input variables.\n",
    "\n",
    "''' \n",
    "\n",
    "# 격자 부스팅 조절 \n",
    "n_estimators = [20,180,1000]\n",
    "max_depth= [2, 3,5]\n",
    "param_grid = dict(n_estimators=n_estimators, max_depth=max_depth)\n",
    "model = GradientBoostingClassifier()\n",
    "kfold = KFold(n_splits=num_folds, random_state=seed, shuffle=True)\n",
    "grid = GridSearchCV(estimator=model, param_grid=param_grid, scoring=scoring, cv=kfold)\n",
    "grid_result = grid.fit(x_train_new, y_train_new)\n",
    "\n",
    "#Print Results\n",
    "print(\"Best: %f using %s\" % (grid_result.best_score_, grid_result.best_params_))\n",
    "means = grid_result.cv_results_['mean_test_score']\n",
    "stds = grid_result.cv_results_['std_test_score']\n",
    "params = grid_result.cv_results_['params']\n",
    "ranks = grid_result.cv_results_['rank_test_score']\n",
    "for mean, stdev, param, rank in zip(means, stds, params, ranks):\n",
    "    print(\"#%d %f (%f) with: %r\" % (rank, mean, stdev, param))"
   ]
  },
  {
   "cell_type": "code",
   "execution_count": 60,
   "id": "ddf1e5ef",
   "metadata": {},
   "outputs": [
    {
     "data": {
      "text/plain": [
       "GradientBoostingClassifier(max_depth=2, n_estimators=180)"
      ]
     },
     "execution_count": 60,
     "metadata": {},
     "output_type": "execute_result"
    }
   ],
   "source": [
    "model = GradientBoostingClassifier(max_depth= 2, n_estimators = 180)\n",
    "model.fit(x_train_new, y_train_new)"
   ]
  },
  {
   "cell_type": "code",
   "execution_count": 62,
   "id": "14911532",
   "metadata": {},
   "outputs": [
    {
     "name": "stdout",
     "output_type": "stream",
     "text": [
      "0.9905\n",
      "[[19763   183]\n",
      " [    7    47]]\n",
      "              precision    recall  f1-score   support\n",
      "\n",
      "           0       1.00      0.99      1.00     19946\n",
      "           1       0.20      0.87      0.33        54\n",
      "\n",
      "    accuracy                           0.99     20000\n",
      "   macro avg       0.60      0.93      0.66     20000\n",
      "weighted avg       1.00      0.99      0.99     20000\n",
      "\n"
     ]
    }
   ],
   "source": [
    "# 예측\n",
    "pred = model.predict(X_test)\n",
    "print(accuracy_score(y_test, pred))\n",
    "print(confusion_matrix(y_test, pred))\n",
    "print(classification_report(y_test, pred))"
   ]
  },
  {
   "cell_type": "code",
   "execution_count": 64,
   "id": "df7ba4c1",
   "metadata": {},
   "outputs": [
    {
     "data": {
      "image/png": "[encoded data removed]",
      "text/plain": [
       "<Figure size 432x288 with 2 Axes>"
      ]
     },
     "metadata": {
      "needs_background": "light"
     },
     "output_type": "display_data"
    }
   ],
   "source": [
    "df_cm = pd.DataFrame(confusion_matrix(y_test, pred), columns=np.unique(y_test), index = np.unique(y_test))\n",
    "df_cm.index.name = 'Actual'\n",
    "df_cm.columns.name = 'Predicted'\n",
    "sns.heatmap(df_cm, cmap=\"Blues\", annot=True,annot_kws={\"size\": 16})# font size\n",
    "plt.show()"
   ]
  }
 ],
 "metadata": {
  "kernelspec": {
   "display_name": "Python 3",
   "language": "python",
   "name": "python3"
  },
  "language_info": {
   "codemirror_mode": {
    "name": "ipython",
    "version": 3
   },
   "file_extension": ".py",
   "mimetype": "text/x-python",
   "name": "python",
   "nbconvert_exporter": "python",
   "pygments_lexer": "ipython3",
   "version": "3.8.11"
  }
 },
 "nbformat": 4,
 "nbformat_minor": 5
}
